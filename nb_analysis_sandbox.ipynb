{
 "cells": [
  {
   "cell_type": "code",
   "id": "initial_id",
   "metadata": {
    "collapsed": true,
    "ExecuteTime": {
     "end_time": "2024-06-02T14:03:56.264377Z",
     "start_time": "2024-06-02T14:03:55.780438Z"
    }
   },
   "source": [
    "from src.neos_output_parser import get_variables_from_neos\n",
    "import pandas as pd"
   ],
   "outputs": [],
   "execution_count": 2
  },
  {
   "metadata": {
    "ExecuteTime": {
     "end_time": "2024-06-02T14:05:13.671248Z",
     "start_time": "2024-06-02T14:05:13.660078Z"
    }
   },
   "cell_type": "code",
   "source": "schedule = get_variables_from_neos('results/archiv/neos_outputs/neos_output_2.txt')",
   "id": "9d05cb691372b83",
   "outputs": [],
   "execution_count": 3
  },
  {
   "metadata": {
    "ExecuteTime": {
     "end_time": "2024-06-02T14:05:27.109610Z",
     "start_time": "2024-06-02T14:05:27.104683Z"
    }
   },
   "cell_type": "code",
   "source": [
    "data = [(*key, value) for key, value in schedule.items()]\n",
    "\n",
    "df = pd.DataFrame(data, columns=['nurse_id', 'shift', 'day', 'attendance'])"
   ],
   "id": "aa07c90834b1eea7",
   "outputs": [],
   "execution_count": 4
  },
  {
   "metadata": {
    "ExecuteTime": {
     "end_time": "2024-06-02T14:06:02.918798Z",
     "start_time": "2024-06-02T14:06:02.893730Z"
    }
   },
   "cell_type": "code",
   "source": "df.head()",
   "id": "7fe6215260463a76",
   "outputs": [
    {
     "data": {
      "text/plain": [
       "   nurse_id  shift  day  attendance\n",
       "0         1      1    1           1\n",
       "1         1      1    2           0\n",
       "2         1      1    3           1\n",
       "3         1      1    4           1\n",
       "4         1      1    5           1"
      ],
      "text/html": [
       "<div>\n",
       "<style scoped>\n",
       "    .dataframe tbody tr th:only-of-type {\n",
       "        vertical-align: middle;\n",
       "    }\n",
       "\n",
       "    .dataframe tbody tr th {\n",
       "        vertical-align: top;\n",
       "    }\n",
       "\n",
       "    .dataframe thead th {\n",
       "        text-align: right;\n",
       "    }\n",
       "</style>\n",
       "<table border=\"1\" class=\"dataframe\">\n",
       "  <thead>\n",
       "    <tr style=\"text-align: right;\">\n",
       "      <th></th>\n",
       "      <th>nurse_id</th>\n",
       "      <th>shift</th>\n",
       "      <th>day</th>\n",
       "      <th>attendance</th>\n",
       "    </tr>\n",
       "  </thead>\n",
       "  <tbody>\n",
       "    <tr>\n",
       "      <th>0</th>\n",
       "      <td>1</td>\n",
       "      <td>1</td>\n",
       "      <td>1</td>\n",
       "      <td>1</td>\n",
       "    </tr>\n",
       "    <tr>\n",
       "      <th>1</th>\n",
       "      <td>1</td>\n",
       "      <td>1</td>\n",
       "      <td>2</td>\n",
       "      <td>0</td>\n",
       "    </tr>\n",
       "    <tr>\n",
       "      <th>2</th>\n",
       "      <td>1</td>\n",
       "      <td>1</td>\n",
       "      <td>3</td>\n",
       "      <td>1</td>\n",
       "    </tr>\n",
       "    <tr>\n",
       "      <th>3</th>\n",
       "      <td>1</td>\n",
       "      <td>1</td>\n",
       "      <td>4</td>\n",
       "      <td>1</td>\n",
       "    </tr>\n",
       "    <tr>\n",
       "      <th>4</th>\n",
       "      <td>1</td>\n",
       "      <td>1</td>\n",
       "      <td>5</td>\n",
       "      <td>1</td>\n",
       "    </tr>\n",
       "  </tbody>\n",
       "</table>\n",
       "</div>"
      ]
     },
     "execution_count": 5,
     "metadata": {},
     "output_type": "execute_result"
    }
   ],
   "execution_count": 5
  },
  {
   "metadata": {
    "ExecuteTime": {
     "end_time": "2024-06-02T14:09:16.443560Z",
     "start_time": "2024-06-02T14:09:16.439211Z"
    }
   },
   "cell_type": "code",
   "source": "13 % 7",
   "id": "9bff2cc915375848",
   "outputs": [
    {
     "data": {
      "text/plain": [
       "6"
      ]
     },
     "execution_count": 10,
     "metadata": {},
     "output_type": "execute_result"
    }
   ],
   "execution_count": 10
  },
  {
   "metadata": {
    "ExecuteTime": {
     "end_time": "2024-06-02T14:46:06.471977Z",
     "start_time": "2024-06-02T14:46:06.465716Z"
    }
   },
   "cell_type": "code",
   "source": [
    "# Filtracja weekendów (sobota i niedziela)\n",
    "weekend_df = df[(df['day'] % 7 == 6) | (df['day'] % 7 == 0)]\n",
    "\n",
    "# Agregacja liczby zmian w weekendy\n",
    "weekend_shifts = weekend_df.groupby('nurse_id')['attendance'].sum().reset_index()\n",
    "weekend_shifts.columns = ['nurse_id', 'num_weekend_shifts']"
   ],
   "id": "7eebb24a212949b1",
   "outputs": [],
   "execution_count": 12
  },
  {
   "metadata": {
    "ExecuteTime": {
     "end_time": "2024-06-02T14:47:47.461175Z",
     "start_time": "2024-06-02T14:47:47.455959Z"
    }
   },
   "cell_type": "code",
   "source": "weekend_shifts.head()",
   "id": "2c095b5c755453c2",
   "outputs": [
    {
     "data": {
      "text/plain": [
       "   nurse_id  num_weekend_shifts\n",
       "0         1                   9\n",
       "1         2                  10\n",
       "2         3                   8\n",
       "3         4                   8\n",
       "4         5                   8"
      ],
      "text/html": [
       "<div>\n",
       "<style scoped>\n",
       "    .dataframe tbody tr th:only-of-type {\n",
       "        vertical-align: middle;\n",
       "    }\n",
       "\n",
       "    .dataframe tbody tr th {\n",
       "        vertical-align: top;\n",
       "    }\n",
       "\n",
       "    .dataframe thead th {\n",
       "        text-align: right;\n",
       "    }\n",
       "</style>\n",
       "<table border=\"1\" class=\"dataframe\">\n",
       "  <thead>\n",
       "    <tr style=\"text-align: right;\">\n",
       "      <th></th>\n",
       "      <th>nurse_id</th>\n",
       "      <th>num_weekend_shifts</th>\n",
       "    </tr>\n",
       "  </thead>\n",
       "  <tbody>\n",
       "    <tr>\n",
       "      <th>0</th>\n",
       "      <td>1</td>\n",
       "      <td>9</td>\n",
       "    </tr>\n",
       "    <tr>\n",
       "      <th>1</th>\n",
       "      <td>2</td>\n",
       "      <td>10</td>\n",
       "    </tr>\n",
       "    <tr>\n",
       "      <th>2</th>\n",
       "      <td>3</td>\n",
       "      <td>8</td>\n",
       "    </tr>\n",
       "    <tr>\n",
       "      <th>3</th>\n",
       "      <td>4</td>\n",
       "      <td>8</td>\n",
       "    </tr>\n",
       "    <tr>\n",
       "      <th>4</th>\n",
       "      <td>5</td>\n",
       "      <td>8</td>\n",
       "    </tr>\n",
       "  </tbody>\n",
       "</table>\n",
       "</div>"
      ]
     },
     "execution_count": 13,
     "metadata": {},
     "output_type": "execute_result"
    }
   ],
   "execution_count": 13
  },
  {
   "metadata": {
    "ExecuteTime": {
     "end_time": "2024-06-02T17:33:32.270137Z",
     "start_time": "2024-06-02T17:33:32.259588Z"
    }
   },
   "cell_type": "code",
   "source": [
    "from src.analysis.input_digester import get_section_data\n",
    "\n",
    "foes = get_section_data(input_data_path='data/test_instance.csv', section_name='unpreferred_shifts')"
   ],
   "id": "556926fffb664f9a",
   "outputs": [],
   "execution_count": 3
  },
  {
   "metadata": {
    "ExecuteTime": {
     "end_time": "2024-06-02T17:33:32.807055Z",
     "start_time": "2024-06-02T17:33:32.805109Z"
    }
   },
   "cell_type": "code",
   "source": [
    "for val in foes:\n",
    "\tprint(val)"
   ],
   "id": "82d2835f8b2469c2",
   "outputs": [
    {
     "name": "stdout",
     "output_type": "stream",
     "text": [
      "(6, 2, 3)\n",
      "(5, 9, 2)\n",
      "(7, 11, 1)\n",
      "(4, 8, 1)\n",
      "(13, 21, 3)\n",
      "(2, 22, 3)\n",
      "(1, 2, 3)\n",
      "(8, 22, 2)\n",
      "(10, 10, 3)\n",
      "(11, 8, 3)\n",
      "(12, 18, 3)\n",
      "(14, 23, 3)\n",
      "(15, 23, 1)\n",
      "(3, 21, 1)\n",
      "(9, 16, 1)\n"
     ]
    }
   ],
   "execution_count": 4
  },
  {
   "metadata": {},
   "cell_type": "code",
   "outputs": [],
   "execution_count": null,
   "source": "",
   "id": "754214ee257758d7"
  }
 ],
 "metadata": {
  "kernelspec": {
   "display_name": "Python 3",
   "language": "python",
   "name": "python3"
  },
  "language_info": {
   "codemirror_mode": {
    "name": "ipython",
    "version": 2
   },
   "file_extension": ".py",
   "mimetype": "text/x-python",
   "name": "python",
   "nbconvert_exporter": "python",
   "pygments_lexer": "ipython2",
   "version": "2.7.6"
  }
 },
 "nbformat": 4,
 "nbformat_minor": 5
}
